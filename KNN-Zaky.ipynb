{
  "nbformat": 4,
  "nbformat_minor": 0,
  "metadata": {
    "colab": {
      "name": "KNN-Zaky.ipynb",
      "provenance": [],
      "collapsed_sections": []
    },
    "kernelspec": {
      "display_name": "Python 3",
      "name": "python3"
    }
  },
  "cells": [
    {
      "cell_type": "markdown",
      "metadata": {
        "id": "lnFkgH4Jf59S"
      },
      "source": [
        "# Import Library"
      ]
    },
    {
      "cell_type": "code",
      "metadata": {
        "id": "DVRtWmTXwrLa"
      },
      "source": [
        "import pandas as pd\n",
        "import numpy as np\n",
        "\n",
        "from sklearn.preprocessing import MinMaxScaler"
      ],
      "execution_count": 22,
      "outputs": []
    },
    {
      "cell_type": "markdown",
      "metadata": {
        "id": "b2FlsHC5gC6L"
      },
      "source": [
        "# Download Dataset"
      ]
    },
    {
      "cell_type": "code",
      "metadata": {
        "colab": {
          "base_uri": "https://localhost:8080/"
        },
        "id": "OCr81DzBwxnS",
        "outputId": "a4d0f107-ebfe-4311-d666-131636181ebf"
      },
      "source": [
        "!pip install PyDrive"
      ],
      "execution_count": 23,
      "outputs": [
        {
          "output_type": "stream",
          "text": [
            "Requirement already satisfied: PyDrive in /usr/local/lib/python3.6/dist-packages (1.3.1)\n",
            "Requirement already satisfied: PyYAML>=3.0 in /usr/local/lib/python3.6/dist-packages (from PyDrive) (3.13)\n",
            "Requirement already satisfied: google-api-python-client>=1.2 in /usr/local/lib/python3.6/dist-packages (from PyDrive) (1.7.12)\n",
            "Requirement already satisfied: oauth2client>=4.0.0 in /usr/local/lib/python3.6/dist-packages (from PyDrive) (4.1.3)\n",
            "Requirement already satisfied: httplib2<1dev,>=0.17.0 in /usr/local/lib/python3.6/dist-packages (from google-api-python-client>=1.2->PyDrive) (0.17.4)\n",
            "Requirement already satisfied: google-auth-httplib2>=0.0.3 in /usr/local/lib/python3.6/dist-packages (from google-api-python-client>=1.2->PyDrive) (0.0.4)\n",
            "Requirement already satisfied: google-auth>=1.4.1 in /usr/local/lib/python3.6/dist-packages (from google-api-python-client>=1.2->PyDrive) (1.17.2)\n",
            "Requirement already satisfied: six<2dev,>=1.6.1 in /usr/local/lib/python3.6/dist-packages (from google-api-python-client>=1.2->PyDrive) (1.15.0)\n",
            "Requirement already satisfied: uritemplate<4dev,>=3.0.0 in /usr/local/lib/python3.6/dist-packages (from google-api-python-client>=1.2->PyDrive) (3.0.1)\n",
            "Requirement already satisfied: pyasn1-modules>=0.0.5 in /usr/local/lib/python3.6/dist-packages (from oauth2client>=4.0.0->PyDrive) (0.2.8)\n",
            "Requirement already satisfied: rsa>=3.1.4 in /usr/local/lib/python3.6/dist-packages (from oauth2client>=4.0.0->PyDrive) (4.6)\n",
            "Requirement already satisfied: pyasn1>=0.1.7 in /usr/local/lib/python3.6/dist-packages (from oauth2client>=4.0.0->PyDrive) (0.4.8)\n",
            "Requirement already satisfied: cachetools<5.0,>=2.0.0 in /usr/local/lib/python3.6/dist-packages (from google-auth>=1.4.1->google-api-python-client>=1.2->PyDrive) (4.2.0)\n",
            "Requirement already satisfied: setuptools>=40.3.0 in /usr/local/lib/python3.6/dist-packages (from google-auth>=1.4.1->google-api-python-client>=1.2->PyDrive) (50.3.2)\n"
          ],
          "name": "stdout"
        }
      ]
    },
    {
      "cell_type": "code",
      "metadata": {
        "id": "dcnERuqsyAoN"
      },
      "source": [
        "from pydrive.auth import GoogleAuth\n",
        "from pydrive.drive import GoogleDrive\n",
        "from google.colab import auth\n",
        "from oauth2client.client import GoogleCredentials\n"
      ],
      "execution_count": 24,
      "outputs": []
    },
    {
      "cell_type": "code",
      "metadata": {
        "id": "fBMIQlAIya9S"
      },
      "source": [
        "auth.authenticate_user()\n",
        "gauth = GoogleAuth()\n",
        "gauth.credentials = GoogleCredentials.get_application_default()\n",
        "drive = GoogleDrive(gauth)"
      ],
      "execution_count": 25,
      "outputs": []
    },
    {
      "cell_type": "code",
      "metadata": {
        "id": "t84mdjNVy0MD"
      },
      "source": [
        "downloaded = drive.CreateFile({'id':\"1h1F46PJ5qND0uUHF-5FYHAlKErgWoM2E\"})   \n",
        "downloaded.GetContentFile('Diabetes.csv')        "
      ],
      "execution_count": 26,
      "outputs": []
    },
    {
      "cell_type": "code",
      "metadata": {
        "colab": {
          "base_uri": "https://localhost:8080/",
          "height": 399
        },
        "id": "NMd8fLb1zApC",
        "outputId": "6e9f4ac5-acf7-47fb-994a-b46ca25f0c61"
      },
      "source": [
        "df= pd.read_csv('Diabetes.csv')\n",
        "df"
      ],
      "execution_count": 27,
      "outputs": [
        {
          "output_type": "execute_result",
          "data": {
            "text/html": [
              "<div>\n",
              "<style scoped>\n",
              "    .dataframe tbody tr th:only-of-type {\n",
              "        vertical-align: middle;\n",
              "    }\n",
              "\n",
              "    .dataframe tbody tr th {\n",
              "        vertical-align: top;\n",
              "    }\n",
              "\n",
              "    .dataframe thead th {\n",
              "        text-align: right;\n",
              "    }\n",
              "</style>\n",
              "<table border=\"1\" class=\"dataframe\">\n",
              "  <thead>\n",
              "    <tr style=\"text-align: right;\">\n",
              "      <th></th>\n",
              "      <th>Pregnancies</th>\n",
              "      <th>Glucose</th>\n",
              "      <th>BloodPressure</th>\n",
              "      <th>SkinThickness</th>\n",
              "      <th>Insulin</th>\n",
              "      <th>BMI</th>\n",
              "      <th>DiabetesPedigreeFunction</th>\n",
              "      <th>Age</th>\n",
              "      <th>Outcome</th>\n",
              "    </tr>\n",
              "  </thead>\n",
              "  <tbody>\n",
              "    <tr>\n",
              "      <th>0</th>\n",
              "      <td>6</td>\n",
              "      <td>148</td>\n",
              "      <td>72</td>\n",
              "      <td>35</td>\n",
              "      <td>0</td>\n",
              "      <td>33.6</td>\n",
              "      <td>0.627</td>\n",
              "      <td>50</td>\n",
              "      <td>1</td>\n",
              "    </tr>\n",
              "    <tr>\n",
              "      <th>1</th>\n",
              "      <td>1</td>\n",
              "      <td>85</td>\n",
              "      <td>66</td>\n",
              "      <td>29</td>\n",
              "      <td>0</td>\n",
              "      <td>26.6</td>\n",
              "      <td>0.351</td>\n",
              "      <td>31</td>\n",
              "      <td>0</td>\n",
              "    </tr>\n",
              "    <tr>\n",
              "      <th>2</th>\n",
              "      <td>8</td>\n",
              "      <td>183</td>\n",
              "      <td>64</td>\n",
              "      <td>0</td>\n",
              "      <td>0</td>\n",
              "      <td>23.3</td>\n",
              "      <td>0.672</td>\n",
              "      <td>32</td>\n",
              "      <td>1</td>\n",
              "    </tr>\n",
              "    <tr>\n",
              "      <th>3</th>\n",
              "      <td>1</td>\n",
              "      <td>89</td>\n",
              "      <td>66</td>\n",
              "      <td>23</td>\n",
              "      <td>94</td>\n",
              "      <td>28.1</td>\n",
              "      <td>0.167</td>\n",
              "      <td>21</td>\n",
              "      <td>0</td>\n",
              "    </tr>\n",
              "    <tr>\n",
              "      <th>4</th>\n",
              "      <td>0</td>\n",
              "      <td>137</td>\n",
              "      <td>40</td>\n",
              "      <td>35</td>\n",
              "      <td>168</td>\n",
              "      <td>43.1</td>\n",
              "      <td>2.288</td>\n",
              "      <td>33</td>\n",
              "      <td>1</td>\n",
              "    </tr>\n",
              "    <tr>\n",
              "      <th>...</th>\n",
              "      <td>...</td>\n",
              "      <td>...</td>\n",
              "      <td>...</td>\n",
              "      <td>...</td>\n",
              "      <td>...</td>\n",
              "      <td>...</td>\n",
              "      <td>...</td>\n",
              "      <td>...</td>\n",
              "      <td>...</td>\n",
              "    </tr>\n",
              "    <tr>\n",
              "      <th>763</th>\n",
              "      <td>10</td>\n",
              "      <td>101</td>\n",
              "      <td>76</td>\n",
              "      <td>48</td>\n",
              "      <td>180</td>\n",
              "      <td>32.9</td>\n",
              "      <td>0.171</td>\n",
              "      <td>63</td>\n",
              "      <td>0</td>\n",
              "    </tr>\n",
              "    <tr>\n",
              "      <th>764</th>\n",
              "      <td>2</td>\n",
              "      <td>122</td>\n",
              "      <td>70</td>\n",
              "      <td>27</td>\n",
              "      <td>0</td>\n",
              "      <td>36.8</td>\n",
              "      <td>0.340</td>\n",
              "      <td>27</td>\n",
              "      <td>0</td>\n",
              "    </tr>\n",
              "    <tr>\n",
              "      <th>765</th>\n",
              "      <td>5</td>\n",
              "      <td>121</td>\n",
              "      <td>72</td>\n",
              "      <td>23</td>\n",
              "      <td>112</td>\n",
              "      <td>26.2</td>\n",
              "      <td>0.245</td>\n",
              "      <td>30</td>\n",
              "      <td>0</td>\n",
              "    </tr>\n",
              "    <tr>\n",
              "      <th>766</th>\n",
              "      <td>1</td>\n",
              "      <td>126</td>\n",
              "      <td>60</td>\n",
              "      <td>0</td>\n",
              "      <td>0</td>\n",
              "      <td>30.1</td>\n",
              "      <td>0.349</td>\n",
              "      <td>47</td>\n",
              "      <td>1</td>\n",
              "    </tr>\n",
              "    <tr>\n",
              "      <th>767</th>\n",
              "      <td>1</td>\n",
              "      <td>93</td>\n",
              "      <td>70</td>\n",
              "      <td>31</td>\n",
              "      <td>0</td>\n",
              "      <td>30.4</td>\n",
              "      <td>0.315</td>\n",
              "      <td>23</td>\n",
              "      <td>0</td>\n",
              "    </tr>\n",
              "  </tbody>\n",
              "</table>\n",
              "<p>768 rows × 9 columns</p>\n",
              "</div>"
            ],
            "text/plain": [
              "     Pregnancies  Glucose  ...  Age  Outcome\n",
              "0              6      148  ...   50        1\n",
              "1              1       85  ...   31        0\n",
              "2              8      183  ...   32        1\n",
              "3              1       89  ...   21        0\n",
              "4              0      137  ...   33        1\n",
              "..           ...      ...  ...  ...      ...\n",
              "763           10      101  ...   63        0\n",
              "764            2      122  ...   27        0\n",
              "765            5      121  ...   30        0\n",
              "766            1      126  ...   47        1\n",
              "767            1       93  ...   23        0\n",
              "\n",
              "[768 rows x 9 columns]"
            ]
          },
          "metadata": {
            "tags": []
          },
          "execution_count": 27
        }
      ]
    },
    {
      "cell_type": "markdown",
      "metadata": {
        "id": "XK6LZ4DCrV-8"
      },
      "source": [
        "# PreProcessing\r\n",
        "\r\n"
      ]
    },
    {
      "cell_type": "code",
      "metadata": {
        "id": "qSf_7cQSZOGv"
      },
      "source": [
        "# replace nilai 0\n",
        "zero = ['Glucose', 'BloodPressure', 'SkinThickness', 'BMI', 'Insulin']\n",
        "for column in zero:\n",
        "  df[column] = df[column].replace(0, np.NaN)\n",
        "  mean = int(df[column].mean(skipna=True))\n",
        "  df[column] = df[column].replace(np.NaN, mean)\n",
        "  \n",
        "# Scalling  \n",
        "scaler = MinMaxScaler()\n",
        "scalling_column = ['Pregnancies', 'Glucose', 'BloodPressure', 'SkinThickness', 'Insulin', 'BMI', 'DiabetesPedigreeFunction', 'Age']\n",
        "df[scalling_column] = scaler.fit_transform(df[scalling_column])"
      ],
      "execution_count": 28,
      "outputs": []
    },
    {
      "cell_type": "code",
      "metadata": {
        "id": "-AsWNH42cH6Z"
      },
      "source": [
        "# fold 1\n",
        "df1 = [df.iloc[:614].reset_index(drop=True), df.iloc[614:].reset_index(drop=True)]\n",
        "\n",
        "# fold 2\n",
        "df2 = [pd.concat([df.iloc[:461], df.iloc[614:768]]).reset_index(drop=True), \n",
        "       df.iloc[461:614].reset_index(drop=True)]\n",
        "\n",
        "# fold 3\n",
        "df3 = [pd.concat([df.iloc[:307], df.iloc[461:768]]).reset_index(drop=True),\n",
        "       df.iloc[307:461].reset_index(drop=True)]\n",
        "\n",
        "# fold 4\n",
        "df4 = [pd.concat([df.iloc[:154], df.iloc[307:768]]).reset_index(drop=True),\n",
        "       df.iloc[154:307].reset_index(drop=True)]\n",
        "\n",
        "#fold 5\n",
        "df5 = [df.iloc[154:768].reset_index(drop=True), df.iloc[:154].reset_index(drop=True)]\n",
        "\n"
      ],
      "execution_count": 29,
      "outputs": []
    },
    {
      "cell_type": "code",
      "metadata": {
        "colab": {
          "base_uri": "https://localhost:8080/"
        },
        "id": "wbRY3vwqHRF5",
        "outputId": "ef46c8a8-2d51-47e6-8a14-f8d3ccdeb969"
      },
      "source": [
        "print(df1[0].shape)\r\n",
        "print(df2[0].shape)\r\n",
        "print(df3[0].shape)\r\n",
        "print(df4[0].shape)\r\n",
        "print(df5[0].shape)\r\n",
        "print(\"\\n\")\r\n",
        "print(df1[1].shape)\r\n",
        "print(df2[1].shape)\r\n",
        "print(df3[1].shape)\r\n",
        "print(df4[1].shape)\r\n",
        "print(df5[1].shape)"
      ],
      "execution_count": 30,
      "outputs": [
        {
          "output_type": "stream",
          "text": [
            "(614, 9)\n",
            "(615, 9)\n",
            "(614, 9)\n",
            "(615, 9)\n",
            "(614, 9)\n",
            "\n",
            "\n",
            "(154, 9)\n",
            "(153, 9)\n",
            "(154, 9)\n",
            "(153, 9)\n",
            "(154, 9)\n"
          ],
          "name": "stdout"
        }
      ]
    },
    {
      "cell_type": "markdown",
      "metadata": {
        "id": "3O52OnSQ2axt"
      },
      "source": [
        "# Metode Perhitungan Jarak"
      ]
    },
    {
      "cell_type": "code",
      "metadata": {
        "id": "aK13vaDNrSFU"
      },
      "source": [
        "# EUCLIDIAN DISTANCE\n",
        "def distance(x1, x2):                                   \n",
        "  return np.sqrt(np.sum(x1-x2)**2)\n",
        "\n",
        "# MANHATTAN DISTANCE\n",
        "def distance1(x1, x2):\n",
        "    return np.sum(np.abs(np.array(x1) - np.array(x2)))\n"
      ],
      "execution_count": 31,
      "outputs": []
    },
    {
      "cell_type": "markdown",
      "metadata": {
        "id": "LKc3DC4soX2e"
      },
      "source": [
        "# Perhitungan Akurasi"
      ]
    },
    {
      "cell_type": "code",
      "metadata": {
        "id": "raFXaWFRPPqO"
      },
      "source": [
        "def score_accuracy(test, pred):\r\n",
        "    testSet = test['Outcome'].values.tolist()\r\n",
        "    correct = 0\r\n",
        "    for x in range(len(pred)):\r\n",
        "        if testSet[x] == pred[x]:\r\n",
        "            correct += 1\r\n",
        "    return (correct/float(len(testSet))) * 100.0\r\n"
      ],
      "execution_count": 32,
      "outputs": []
    },
    {
      "cell_type": "markdown",
      "metadata": {
        "id": "Fe7N7_kO28TM"
      },
      "source": [
        "# KNN\r\n"
      ]
    },
    {
      "cell_type": "code",
      "metadata": {
        "id": "MPPQnhJd2_Ma"
      },
      "source": [
        "def knn(k, train, test): \r\n",
        "\r\n",
        "  X = train.drop(\"Outcome\", axis=1).values\r\n",
        "  y = train.Outcome.values\r\n",
        "\r\n",
        "  res =  []\r\n",
        "\r\n",
        "  for data_test in test:\r\n",
        "      \r\n",
        "      jarak = []\r\n",
        "      for data_train in X: \r\n",
        "          jarak.append(distance1(data_train, data_test)) # hitung jarak setiap data\r\n",
        "\r\n",
        "      # mendapatkan nilai indeks minimum\r\n",
        "      min_indeks = np.argsort(jarak)[:k]\r\n",
        "      \r\n",
        "  \r\n",
        "      # predictions\r\n",
        "      pred = [0, 0]\r\n",
        "      for outcome in y[min_indeks]:\r\n",
        "          if outcome == 0:\r\n",
        "              pred[0] += 1\r\n",
        "          else:\r\n",
        "              pred[1] += 1\r\n",
        "\r\n",
        "      \r\n",
        "      if pred[0] > pred[1] :\r\n",
        "          res.append(0)\r\n",
        "      else:\r\n",
        "          res.append(1)\r\n",
        "    \r\n",
        "  return res\r\n"
      ],
      "execution_count": 33,
      "outputs": []
    },
    {
      "cell_type": "markdown",
      "metadata": {
        "id": "OHjgnH7WgdMt"
      },
      "source": [
        "# Main Program"
      ]
    },
    {
      "cell_type": "code",
      "metadata": {
        "colab": {
          "base_uri": "https://localhost:8080/"
        },
        "id": "Vw7Pv3RuOIQo",
        "outputId": "397c0c85-e76b-4c3e-ab57-07e87192db3a"
      },
      "source": [
        "def Main():\r\n",
        "    k = 1\r\n",
        "    acc = 0\r\n",
        "    K = []\r\n",
        "\r\n",
        "    for i in range(20):\r\n",
        "        acc = 0\r\n",
        "        for data in [df1, df2, df3, df4, df5]:\r\n",
        "            y_pred = knn(k, data[0], data[1].drop(\"Outcome\", axis=1).values)\r\n",
        "            acc += score_accuracy(data[1], y_pred)\r\n",
        "            \r\n",
        "        print(\"Akurasi dengan k = \",k, \"adalah = \", (acc/5))\r\n",
        "        K.append([k, acc/5])\r\n",
        "        k += 1\r\n",
        "    lSorted = sorted(K, key=lambda x: x[1], reverse=True)\r\n",
        "    \r\n",
        "    print(\"\\nNilai K terbaik : \", lSorted[0][0], \" Dengan Accuracy : \", lSorted[0][1])\r\n",
        "    \r\n",
        "\r\n",
        "Main()"
      ],
      "execution_count": 34,
      "outputs": [
        {
          "output_type": "stream",
          "text": [
            "Akurasi dengan k =  1 adalah =  70.31066972243443\n",
            "Akurasi dengan k =  2 adalah =  67.44588744588745\n",
            "Akurasi dengan k =  3 adalah =  73.04812834224599\n",
            "Akurasi dengan k =  4 adalah =  71.61106866989219\n",
            "Akurasi dengan k =  5 adalah =  74.47669977081742\n",
            "Akurasi dengan k =  6 adalah =  72.65257618198794\n",
            "Akurasi dengan k =  7 adalah =  74.47585094643918\n",
            "Akurasi dengan k =  8 adalah =  74.08284525931583\n",
            "Akurasi dengan k =  9 adalah =  74.86546133604956\n",
            "Akurasi dengan k =  10 adalah =  74.73304473304475\n",
            "Akurasi dengan k =  11 adalah =  76.16755793226382\n",
            "Akurasi dengan k =  12 adalah =  74.99108734402851\n",
            "Akurasi dengan k =  13 adalah =  76.16755793226382\n",
            "Akurasi dengan k =  14 adalah =  75.90781767252355\n",
            "Akurasi dengan k =  15 adalah =  76.95102283337577\n",
            "Akurasi dengan k =  16 adalah =  76.68958492487903\n",
            "Akurasi dengan k =  17 adalah =  77.3414820473644\n",
            "Akurasi dengan k =  18 adalah =  77.08004413886766\n",
            "Akurasi dengan k =  19 adalah =  76.69043374925727\n",
            "Akurasi dengan k =  20 adalah =  77.46795687972158\n",
            "\n",
            "Nilai K terbaik :  20  Dengan Accuracy :  77.46795687972158\n"
          ],
          "name": "stdout"
        }
      ]
    }
  ]
}